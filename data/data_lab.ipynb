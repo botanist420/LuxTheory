{
 "cells": [
  {
   "cell_type": "code",
   "execution_count": 1,
   "metadata": {},
   "outputs": [],
   "source": [
    "import pandas as pd\n",
    "import numpy as np\n",
    "import matplotlib.pyplot as plt\n",
    "import seaborn as sns\n"
   ]
  },
  {
   "cell_type": "code",
   "execution_count": 2,
   "metadata": {},
   "outputs": [
    {
     "data": {
      "text/html": [
       "<div>\n",
       "<style scoped>\n",
       "    .dataframe tbody tr th:only-of-type {\n",
       "        vertical-align: middle;\n",
       "    }\n",
       "\n",
       "    .dataframe tbody tr th {\n",
       "        vertical-align: top;\n",
       "    }\n",
       "\n",
       "    .dataframe thead th {\n",
       "        text-align: right;\n",
       "    }\n",
       "</style>\n",
       "<table border=\"1\" class=\"dataframe\">\n",
       "  <thead>\n",
       "    <tr style=\"text-align: right;\">\n",
       "      <th></th>\n",
       "      <th>_id</th>\n",
       "      <th>isPb</th>\n",
       "      <th>wpm</th>\n",
       "      <th>acc</th>\n",
       "      <th>rawWpm</th>\n",
       "      <th>consistency</th>\n",
       "      <th>charStats</th>\n",
       "      <th>mode</th>\n",
       "      <th>mode2</th>\n",
       "      <th>quoteLength</th>\n",
       "      <th>...</th>\n",
       "      <th>punctuation</th>\n",
       "      <th>numbers</th>\n",
       "      <th>language</th>\n",
       "      <th>funbox</th>\n",
       "      <th>difficulty</th>\n",
       "      <th>lazyMode</th>\n",
       "      <th>blindMode</th>\n",
       "      <th>bailedOut</th>\n",
       "      <th>tags</th>\n",
       "      <th>timestamp</th>\n",
       "    </tr>\n",
       "  </thead>\n",
       "  <tbody>\n",
       "    <tr>\n",
       "      <th>0</th>\n",
       "      <td>63db4c64863ed52530e31e7c</td>\n",
       "      <td>NaN</td>\n",
       "      <td>119.12</td>\n",
       "      <td>98.68</td>\n",
       "      <td>119.12</td>\n",
       "      <td>83.59</td>\n",
       "      <td>149,0,0,0</td>\n",
       "      <td>time</td>\n",
       "      <td>15</td>\n",
       "      <td>NaN</td>\n",
       "      <td>...</td>\n",
       "      <td>False</td>\n",
       "      <td>False</td>\n",
       "      <td>english</td>\n",
       "      <td>none</td>\n",
       "      <td>normal</td>\n",
       "      <td>False</td>\n",
       "      <td>False</td>\n",
       "      <td>False</td>\n",
       "      <td>NaN</td>\n",
       "      <td>1675316324600</td>\n",
       "    </tr>\n",
       "    <tr>\n",
       "      <th>1</th>\n",
       "      <td>63db4c53863ed52530e31e02</td>\n",
       "      <td>NaN</td>\n",
       "      <td>111.20</td>\n",
       "      <td>99.29</td>\n",
       "      <td>111.20</td>\n",
       "      <td>76.97</td>\n",
       "      <td>139,0,0,0</td>\n",
       "      <td>time</td>\n",
       "      <td>15</td>\n",
       "      <td>NaN</td>\n",
       "      <td>...</td>\n",
       "      <td>False</td>\n",
       "      <td>False</td>\n",
       "      <td>english</td>\n",
       "      <td>none</td>\n",
       "      <td>normal</td>\n",
       "      <td>False</td>\n",
       "      <td>False</td>\n",
       "      <td>False</td>\n",
       "      <td>NaN</td>\n",
       "      <td>1675316307518</td>\n",
       "    </tr>\n",
       "    <tr>\n",
       "      <th>2</th>\n",
       "      <td>63db4c43863ed52530e31d86</td>\n",
       "      <td>NaN</td>\n",
       "      <td>93.60</td>\n",
       "      <td>98.32</td>\n",
       "      <td>93.60</td>\n",
       "      <td>69.66</td>\n",
       "      <td>117,0,0,0</td>\n",
       "      <td>time</td>\n",
       "      <td>15</td>\n",
       "      <td>NaN</td>\n",
       "      <td>...</td>\n",
       "      <td>False</td>\n",
       "      <td>False</td>\n",
       "      <td>english</td>\n",
       "      <td>none</td>\n",
       "      <td>normal</td>\n",
       "      <td>False</td>\n",
       "      <td>False</td>\n",
       "      <td>False</td>\n",
       "      <td>NaN</td>\n",
       "      <td>1675316291184</td>\n",
       "    </tr>\n",
       "    <tr>\n",
       "      <th>3</th>\n",
       "      <td>63db4963863ed52530dd9c5e</td>\n",
       "      <td>NaN</td>\n",
       "      <td>101.60</td>\n",
       "      <td>98.50</td>\n",
       "      <td>104.80</td>\n",
       "      <td>79.88</td>\n",
       "      <td>127,1,0,0</td>\n",
       "      <td>time</td>\n",
       "      <td>15</td>\n",
       "      <td>-1.0</td>\n",
       "      <td>...</td>\n",
       "      <td>False</td>\n",
       "      <td>False</td>\n",
       "      <td>english</td>\n",
       "      <td>none</td>\n",
       "      <td>normal</td>\n",
       "      <td>False</td>\n",
       "      <td>False</td>\n",
       "      <td>False</td>\n",
       "      <td>NaN</td>\n",
       "      <td>1675315555000</td>\n",
       "    </tr>\n",
       "    <tr>\n",
       "      <th>4</th>\n",
       "      <td>63db3c4e863ed52530ccf64e</td>\n",
       "      <td>NaN</td>\n",
       "      <td>100.80</td>\n",
       "      <td>91.22</td>\n",
       "      <td>105.60</td>\n",
       "      <td>74.13</td>\n",
       "      <td>126,1,1,0</td>\n",
       "      <td>time</td>\n",
       "      <td>15</td>\n",
       "      <td>-1.0</td>\n",
       "      <td>...</td>\n",
       "      <td>False</td>\n",
       "      <td>False</td>\n",
       "      <td>english</td>\n",
       "      <td>none</td>\n",
       "      <td>normal</td>\n",
       "      <td>False</td>\n",
       "      <td>False</td>\n",
       "      <td>False</td>\n",
       "      <td>NaN</td>\n",
       "      <td>1675312206000</td>\n",
       "    </tr>\n",
       "  </tbody>\n",
       "</table>\n",
       "<p>5 rows × 24 columns</p>\n",
       "</div>"
      ],
      "text/plain": [
       "                        _id  isPb     wpm    acc  rawWpm  consistency  \\\n",
       "0  63db4c64863ed52530e31e7c   NaN  119.12  98.68  119.12        83.59   \n",
       "1  63db4c53863ed52530e31e02   NaN  111.20  99.29  111.20        76.97   \n",
       "2  63db4c43863ed52530e31d86   NaN   93.60  98.32   93.60        69.66   \n",
       "3  63db4963863ed52530dd9c5e   NaN  101.60  98.50  104.80        79.88   \n",
       "4  63db3c4e863ed52530ccf64e   NaN  100.80  91.22  105.60        74.13   \n",
       "\n",
       "   charStats  mode  mode2  quoteLength  ...  punctuation  numbers  language  \\\n",
       "0  149,0,0,0  time     15          NaN  ...        False    False   english   \n",
       "1  139,0,0,0  time     15          NaN  ...        False    False   english   \n",
       "2  117,0,0,0  time     15          NaN  ...        False    False   english   \n",
       "3  127,1,0,0  time     15         -1.0  ...        False    False   english   \n",
       "4  126,1,1,0  time     15         -1.0  ...        False    False   english   \n",
       "\n",
       "   funbox  difficulty  lazyMode blindMode bailedOut tags      timestamp  \n",
       "0    none      normal     False     False     False  NaN  1675316324600  \n",
       "1    none      normal     False     False     False  NaN  1675316307518  \n",
       "2    none      normal     False     False     False  NaN  1675316291184  \n",
       "3    none      normal     False     False     False  NaN  1675315555000  \n",
       "4    none      normal     False     False     False  NaN  1675312206000  \n",
       "\n",
       "[5 rows x 24 columns]"
      ]
     },
     "execution_count": 2,
     "metadata": {},
     "output_type": "execute_result"
    }
   ],
   "source": [
    "file_path = \"monkeytype_0202_raw.csv\"\n",
    "df_raw = pd.read_csv(file_path, sep=\"|\")\n",
    "df_raw.head()"
   ]
  },
  {
   "cell_type": "code",
   "execution_count": 5,
   "metadata": {},
   "outputs": [
    {
     "data": {
      "text/plain": [
       "Index(['_id', 'isPb', 'wpm', 'acc', 'rawWpm', 'consistency', 'charStats',\n",
       "       'mode', 'mode2', 'quoteLength', 'restartCount', 'testDuration',\n",
       "       'afkDuration', 'incompleteTestSeconds', 'punctuation', 'numbers',\n",
       "       'language', 'funbox', 'difficulty', 'lazyMode', 'blindMode',\n",
       "       'bailedOut', 'tags', 'timestamp'],\n",
       "      dtype='object')"
      ]
     },
     "execution_count": 5,
     "metadata": {},
     "output_type": "execute_result"
    }
   ],
   "source": [
    "df_raw.columns"
   ]
  },
  {
   "cell_type": "code",
   "execution_count": 7,
   "metadata": {},
   "outputs": [
    {
     "data": {
      "text/html": [
       "<div>\n",
       "<style scoped>\n",
       "    .dataframe tbody tr th:only-of-type {\n",
       "        vertical-align: middle;\n",
       "    }\n",
       "\n",
       "    .dataframe tbody tr th {\n",
       "        vertical-align: top;\n",
       "    }\n",
       "\n",
       "    .dataframe thead th {\n",
       "        text-align: right;\n",
       "    }\n",
       "</style>\n",
       "<table border=\"1\" class=\"dataframe\">\n",
       "  <thead>\n",
       "    <tr style=\"text-align: right;\">\n",
       "      <th></th>\n",
       "      <th>wpm</th>\n",
       "      <th>acc</th>\n",
       "      <th>rawWpm</th>\n",
       "      <th>consistency</th>\n",
       "      <th>charStats</th>\n",
       "      <th>testDuration</th>\n",
       "      <th>language</th>\n",
       "      <th>timestamp</th>\n",
       "    </tr>\n",
       "  </thead>\n",
       "  <tbody>\n",
       "    <tr>\n",
       "      <th>0</th>\n",
       "      <td>119.12</td>\n",
       "      <td>98.68</td>\n",
       "      <td>119.12</td>\n",
       "      <td>83.59</td>\n",
       "      <td>149,0,0,0</td>\n",
       "      <td>15.01</td>\n",
       "      <td>english</td>\n",
       "      <td>1675316324600</td>\n",
       "    </tr>\n",
       "    <tr>\n",
       "      <th>1</th>\n",
       "      <td>111.20</td>\n",
       "      <td>99.29</td>\n",
       "      <td>111.20</td>\n",
       "      <td>76.97</td>\n",
       "      <td>139,0,0,0</td>\n",
       "      <td>15.00</td>\n",
       "      <td>english</td>\n",
       "      <td>1675316307518</td>\n",
       "    </tr>\n",
       "    <tr>\n",
       "      <th>2</th>\n",
       "      <td>93.60</td>\n",
       "      <td>98.32</td>\n",
       "      <td>93.60</td>\n",
       "      <td>69.66</td>\n",
       "      <td>117,0,0,0</td>\n",
       "      <td>15.00</td>\n",
       "      <td>english</td>\n",
       "      <td>1675316291184</td>\n",
       "    </tr>\n",
       "    <tr>\n",
       "      <th>3</th>\n",
       "      <td>101.60</td>\n",
       "      <td>98.50</td>\n",
       "      <td>104.80</td>\n",
       "      <td>79.88</td>\n",
       "      <td>127,1,0,0</td>\n",
       "      <td>15.00</td>\n",
       "      <td>english</td>\n",
       "      <td>1675315555000</td>\n",
       "    </tr>\n",
       "    <tr>\n",
       "      <th>4</th>\n",
       "      <td>100.80</td>\n",
       "      <td>91.22</td>\n",
       "      <td>105.60</td>\n",
       "      <td>74.13</td>\n",
       "      <td>126,1,1,0</td>\n",
       "      <td>15.00</td>\n",
       "      <td>english</td>\n",
       "      <td>1675312206000</td>\n",
       "    </tr>\n",
       "  </tbody>\n",
       "</table>\n",
       "</div>"
      ],
      "text/plain": [
       "      wpm    acc  rawWpm  consistency  charStats  testDuration language  \\\n",
       "0  119.12  98.68  119.12        83.59  149,0,0,0         15.01  english   \n",
       "1  111.20  99.29  111.20        76.97  139,0,0,0         15.00  english   \n",
       "2   93.60  98.32   93.60        69.66  117,0,0,0         15.00  english   \n",
       "3  101.60  98.50  104.80        79.88  127,1,0,0         15.00  english   \n",
       "4  100.80  91.22  105.60        74.13  126,1,1,0         15.00  english   \n",
       "\n",
       "       timestamp  \n",
       "0  1675316324600  \n",
       "1  1675316307518  \n",
       "2  1675316291184  \n",
       "3  1675315555000  \n",
       "4  1675312206000  "
      ]
     },
     "execution_count": 7,
     "metadata": {},
     "output_type": "execute_result"
    }
   ],
   "source": [
    "use_col_values = ['wpm', 'acc', 'rawWpm', 'consistency', 'charStats', 'testDuration', 'language', 'timestamp']\n",
    "df_clean = df_raw[use_col_values]\n",
    "df_clean.head()"
   ]
  },
  {
   "cell_type": "code",
   "execution_count": 8,
   "metadata": {},
   "outputs": [
    {
     "name": "stdout",
     "output_type": "stream",
     "text": [
      "<class 'pandas.core.frame.DataFrame'>\n",
      "RangeIndex: 893 entries, 0 to 892\n",
      "Data columns (total 8 columns):\n",
      " #   Column        Non-Null Count  Dtype  \n",
      "---  ------        --------------  -----  \n",
      " 0   wpm           893 non-null    float64\n",
      " 1   acc           893 non-null    float64\n",
      " 2   rawWpm        893 non-null    float64\n",
      " 3   consistency   893 non-null    float64\n",
      " 4   charStats     893 non-null    object \n",
      " 5   testDuration  893 non-null    float64\n",
      " 6   language      893 non-null    object \n",
      " 7   timestamp     893 non-null    int64  \n",
      "dtypes: float64(5), int64(1), object(2)\n",
      "memory usage: 55.9+ KB\n"
     ]
    }
   ],
   "source": [
    "df_clean.info()"
   ]
  },
  {
   "cell_type": "code",
   "execution_count": 13,
   "metadata": {},
   "outputs": [
    {
     "ename": "ValueError",
     "evalue": "year 55058 is out of range",
     "output_type": "error",
     "traceback": [
      "\u001b[0;31m---------------------------------------------------------------------------\u001b[0m",
      "\u001b[0;31mValueError\u001b[0m                                Traceback (most recent call last)",
      "\u001b[0;32m/var/folders/r5/sw4x2qc12wz22xrjq85dxj940000gn/T/ipykernel_57099/4193683480.py\u001b[0m in \u001b[0;36m<module>\u001b[0;34m\u001b[0m\n\u001b[1;32m      1\u001b[0m \u001b[0;32mfrom\u001b[0m \u001b[0mdatetime\u001b[0m \u001b[0;32mimport\u001b[0m \u001b[0mdatetime\u001b[0m\u001b[0;34m\u001b[0m\u001b[0;34m\u001b[0m\u001b[0m\n\u001b[1;32m      2\u001b[0m \u001b[0;34m\u001b[0m\u001b[0m\n\u001b[0;32m----> 3\u001b[0;31m \u001b[0mdate_time\u001b[0m \u001b[0;34m=\u001b[0m \u001b[0mdatetime\u001b[0m\u001b[0;34m.\u001b[0m\u001b[0mfromtimestamp\u001b[0m\u001b[0;34m(\u001b[0m\u001b[0mdf_clean\u001b[0m\u001b[0;34m.\u001b[0m\u001b[0mtimestamp\u001b[0m\u001b[0;34m[\u001b[0m\u001b[0;36m0\u001b[0m\u001b[0;34m]\u001b[0m\u001b[0;34m)\u001b[0m\u001b[0;34m\u001b[0m\u001b[0;34m\u001b[0m\u001b[0m\n\u001b[0m",
      "\u001b[0;31mValueError\u001b[0m: year 55058 is out of range"
     ]
    }
   ],
   "source": [
    "from datetime import datetime\n",
    "\n",
    "date_time = datetime.fromtimestamp(df_clean.timestamp[0])"
   ]
  },
  {
   "cell_type": "code",
   "execution_count": 21,
   "metadata": {},
   "outputs": [
    {
     "name": "stdout",
     "output_type": "stream",
     "text": [
      "2023-02-02 13:38:44.600000\n"
     ]
    }
   ],
   "source": [
    "date_time = datetime.fromtimestamp(1675316324.600)\n",
    "print(date_time)\n"
   ]
  },
  {
   "cell_type": "code",
   "execution_count": 41,
   "metadata": {},
   "outputs": [
    {
     "data": {
      "text/plain": [
       "<matplotlib.lines.Line2D at 0x7fb18322c2d0>"
      ]
     },
     "execution_count": 41,
     "metadata": {},
     "output_type": "execute_result"
    },
    {
     "data": {
      "image/png": "[encoded data removed]",
      "text/plain": [
       "<Figure size 500x500 with 1 Axes>"
      ]
     },
     "metadata": {},
     "output_type": "display_data"
    }
   ],
   "source": [
    "sns.displot(data=df_clean, x=\"wpm\", kde=True, color=\"coral\", bins=6)\n",
    "plt.axvline(83)\n",
    "plt.axvline(123)\n"
   ]
  },
  {
   "cell_type": "code",
   "execution_count": 32,
   "metadata": {},
   "outputs": [
    {
     "data": {
      "text/plain": [
       "\"(data=None, *, x=None, y=None, hue=None, row=None, col=None, weights=None, kind='hist', rug=False, rug_kws=None, log_scale=None, legend=True, palette=None, hue_order=None, hue_norm=None, color=None, col_wrap=None, row_order=None, col_order=None, height=5, aspect=1, facet_kws=None, **kwargs)\""
      ]
     },
     "execution_count": 32,
     "metadata": {},
     "output_type": "execute_result"
    }
   ],
   "source": [
    "from inspect import signature\n",
    "\n",
    "sig = signature(sns.displot)\n",
    "str(sig)"
   ]
  },
  {
   "cell_type": "code",
   "execution_count": 35,
   "metadata": {},
   "outputs": [
    {
     "data": {
      "text/html": [
       "<div>\n",
       "<style scoped>\n",
       "    .dataframe tbody tr th:only-of-type {\n",
       "        vertical-align: middle;\n",
       "    }\n",
       "\n",
       "    .dataframe tbody tr th {\n",
       "        vertical-align: top;\n",
       "    }\n",
       "\n",
       "    .dataframe thead th {\n",
       "        text-align: right;\n",
       "    }\n",
       "</style>\n",
       "<table border=\"1\" class=\"dataframe\">\n",
       "  <thead>\n",
       "    <tr style=\"text-align: right;\">\n",
       "      <th></th>\n",
       "      <th>wpm</th>\n",
       "      <th>acc</th>\n",
       "      <th>rawWpm</th>\n",
       "      <th>consistency</th>\n",
       "      <th>testDuration</th>\n",
       "      <th>timestamp</th>\n",
       "    </tr>\n",
       "  </thead>\n",
       "  <tbody>\n",
       "    <tr>\n",
       "      <th>count</th>\n",
       "      <td>893.000000</td>\n",
       "      <td>893.000000</td>\n",
       "      <td>893.000000</td>\n",
       "      <td>893.000000</td>\n",
       "      <td>893.000000</td>\n",
       "      <td>8.930000e+02</td>\n",
       "    </tr>\n",
       "    <tr>\n",
       "      <th>mean</th>\n",
       "      <td>103.353046</td>\n",
       "      <td>94.997648</td>\n",
       "      <td>110.626047</td>\n",
       "      <td>75.925935</td>\n",
       "      <td>15.001277</td>\n",
       "      <td>1.674191e+12</td>\n",
       "    </tr>\n",
       "    <tr>\n",
       "      <th>std</th>\n",
       "      <td>9.766628</td>\n",
       "      <td>3.396032</td>\n",
       "      <td>9.524320</td>\n",
       "      <td>6.528188</td>\n",
       "      <td>0.010219</td>\n",
       "      <td>5.577125e+08</td>\n",
       "    </tr>\n",
       "    <tr>\n",
       "      <th>min</th>\n",
       "      <td>65.930000</td>\n",
       "      <td>82.310000</td>\n",
       "      <td>72.200000</td>\n",
       "      <td>48.950000</td>\n",
       "      <td>15.000000</td>\n",
       "      <td>1.673511e+12</td>\n",
       "    </tr>\n",
       "    <tr>\n",
       "      <th>25%</th>\n",
       "      <td>97.530000</td>\n",
       "      <td>93.060000</td>\n",
       "      <td>104.000000</td>\n",
       "      <td>71.810000</td>\n",
       "      <td>15.000000</td>\n",
       "      <td>1.673612e+12</td>\n",
       "    </tr>\n",
       "    <tr>\n",
       "      <th>50%</th>\n",
       "      <td>103.200000</td>\n",
       "      <td>95.480000</td>\n",
       "      <td>110.400000</td>\n",
       "      <td>76.120000</td>\n",
       "      <td>15.000000</td>\n",
       "      <td>1.674129e+12</td>\n",
       "    </tr>\n",
       "    <tr>\n",
       "      <th>75%</th>\n",
       "      <td>109.600000</td>\n",
       "      <td>97.780000</td>\n",
       "      <td>116.800000</td>\n",
       "      <td>80.510000</td>\n",
       "      <td>15.000000</td>\n",
       "      <td>1.674549e+12</td>\n",
       "    </tr>\n",
       "    <tr>\n",
       "      <th>max</th>\n",
       "      <td>131.910000</td>\n",
       "      <td>100.000000</td>\n",
       "      <td>137.600000</td>\n",
       "      <td>90.780000</td>\n",
       "      <td>15.290000</td>\n",
       "      <td>1.675316e+12</td>\n",
       "    </tr>\n",
       "  </tbody>\n",
       "</table>\n",
       "</div>"
      ],
      "text/plain": [
       "              wpm         acc      rawWpm  consistency  testDuration  \\\n",
       "count  893.000000  893.000000  893.000000   893.000000    893.000000   \n",
       "mean   103.353046   94.997648  110.626047    75.925935     15.001277   \n",
       "std      9.766628    3.396032    9.524320     6.528188      0.010219   \n",
       "min     65.930000   82.310000   72.200000    48.950000     15.000000   \n",
       "25%     97.530000   93.060000  104.000000    71.810000     15.000000   \n",
       "50%    103.200000   95.480000  110.400000    76.120000     15.000000   \n",
       "75%    109.600000   97.780000  116.800000    80.510000     15.000000   \n",
       "max    131.910000  100.000000  137.600000    90.780000     15.290000   \n",
       "\n",
       "          timestamp  \n",
       "count  8.930000e+02  \n",
       "mean   1.674191e+12  \n",
       "std    5.577125e+08  \n",
       "min    1.673511e+12  \n",
       "25%    1.673612e+12  \n",
       "50%    1.674129e+12  \n",
       "75%    1.674549e+12  \n",
       "max    1.675316e+12  "
      ]
     },
     "execution_count": 35,
     "metadata": {},
     "output_type": "execute_result"
    }
   ],
   "source": [
    "df_clean.describe()"
   ]
  },
  {
   "cell_type": "code",
   "execution_count": 36,
   "metadata": {},
   "outputs": [
    {
     "data": {
      "text/plain": [
       "97.60     34\n",
       "104.00    34\n",
       "93.60     31\n",
       "100.00    31\n",
       "103.20    28\n",
       "          ..\n",
       "117.52     1\n",
       "131.91     1\n",
       "91.14      1\n",
       "83.14      1\n",
       "65.93      1\n",
       "Name: wpm, Length: 107, dtype: int64"
      ]
     },
     "execution_count": 36,
     "metadata": {},
     "output_type": "execute_result"
    }
   ],
   "source": [
    "df_clean.wpm.value_counts()"
   ]
  }
 ],
 "metadata": {
  "kernelspec": {
   "display_name": "base",
   "language": "python",
   "name": "python3"
  },
  "language_info": {
   "codemirror_mode": {
    "name": "ipython",
    "version": 3
   },
   "file_extension": ".py",
   "mimetype": "text/x-python",
   "name": "python",
   "nbconvert_exporter": "python",
   "pygments_lexer": "ipython3",
   "version": "3.7.4"
  },
  "orig_nbformat": 4,
  "vscode": {
   "interpreter": {
    "hash": "38505b1823952a8d06edfb0c2c90cab2b0517193277b7732fb89705b7ec6b4d0"
   }
  }
 },
 "nbformat": 4,
 "nbformat_minor": 2
}
