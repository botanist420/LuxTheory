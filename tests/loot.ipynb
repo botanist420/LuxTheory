{
 "cells": [
  {
   "attachments": {},
   "cell_type": "markdown",
   "metadata": {},
   "source": [
    "# Leet Code Problem\n",
    "\n",
    "\n",
    "## Longest Common Prefix\n",
    "\n",
    "Write a function to find the longest common prefix string amongst an array of strings.  \n",
    "If there is no common prefix, return an empty string \"\".  \n",
    "\n",
    "\n",
    "Example 1:  \n",
    "Input: strs = `[\"flower\",\"flow\",\"flight\"]`  \n",
    "Output: `\"fl\"`  \n",
    "\n",
    "\n",
    "Example 2:  \n",
    "Input: strs = `[\"dog\",\"racecar\",\"car\"]`  \n",
    "Output: `\"\"`  \n",
    "Explanation: There is no common prefix among the input strings.  \n",
    "\n",
    "\n",
    "\n",
    "Constraints:\n",
    "* 1 <= strs.length <= 200\n",
    "* 0 <= strs[i].length <= 200\n",
    "* strs[i] consists of only lowercase English letters.\n"
   ]
  },
  {
   "cell_type": "code",
   "execution_count": 239,
   "metadata": {},
   "outputs": [
    {
     "data": {
      "text/plain": [
       "'luca'"
      ]
     },
     "execution_count": 239,
     "metadata": {},
     "output_type": "execute_result"
    }
   ],
   "source": [
    "strs = [\"flower\",\"flow\",\"flight\"]\n",
    "\n",
    "\n",
    "def common_prefix(strs: List[str]) -> str:\n",
    "    \"\"\"Find the common prefix of a list of strings, \n",
    "    compare the first and last to find out the longest common prefix.\n",
    "\n",
    "    Args:\n",
    "        strs (List[str]): Words list of strings\n",
    "\n",
    "    Returns:\n",
    "        str: The common prefix strings\n",
    "    \"\"\"\n",
    "    result_list = []\n",
    "    if strs and len(strs) > 1:\n",
    "        strs = sorted(strs)\n",
    "        # print(strs)\n",
    "        first, last = strs[0], strs[-1]\n",
    "        for i in range(len(first)):\n",
    "            if len(last)>i and first[i] == last[i]:\n",
    "                result_list.append(last[i])\n",
    "            else:\n",
    "                return \"\".join(result_list)\n",
    "    return \"\".join(result_list)\n",
    "\n",
    "\n",
    "# test out the function\n",
    "common_prefix([\"lucas\", \"lucaslee\", \"lucaaaslee\", \"lucaslee0122\"])"
   ]
  },
  {
   "cell_type": "code",
   "execution_count": 240,
   "metadata": {},
   "outputs": [
    {
     "ename": "NameError",
     "evalue": "name 'rome_dict' is not defined",
     "output_type": "error",
     "traceback": [
      "\u001b[0;31m---------------------------------------------------------------------------\u001b[0m",
      "\u001b[0;31mNameError\u001b[0m                                 Traceback (most recent call last)",
      "\u001b[0;32m/var/folders/r5/sw4x2qc12wz22xrjq85dxj940000gn/T/ipykernel_63524/2790026037.py\u001b[0m in \u001b[0;36m<module>\u001b[0;34m\u001b[0m\n\u001b[1;32m      1\u001b[0m \u001b[0mtext\u001b[0m \u001b[0;34m=\u001b[0m \u001b[0;34m\"MCMXCIV\"\u001b[0m\u001b[0;34m\u001b[0m\u001b[0;34m\u001b[0m\u001b[0m\n\u001b[1;32m      2\u001b[0m \u001b[0;34m\u001b[0m\u001b[0m\n\u001b[0;32m----> 3\u001b[0;31m \u001b[0mnumber_list\u001b[0m \u001b[0;34m=\u001b[0m \u001b[0;34m[\u001b[0m\u001b[0mrome_dict\u001b[0m\u001b[0;34m[\u001b[0m\u001b[0mi\u001b[0m\u001b[0;34m]\u001b[0m \u001b[0;32mfor\u001b[0m \u001b[0mi\u001b[0m \u001b[0;32min\u001b[0m \u001b[0mtext\u001b[0m\u001b[0;34m]\u001b[0m\u001b[0;34m\u001b[0m\u001b[0;34m\u001b[0m\u001b[0m\n\u001b[0m\u001b[1;32m      4\u001b[0m \u001b[0mprint\u001b[0m\u001b[0;34m(\u001b[0m\u001b[0mnumber_list\u001b[0m\u001b[0;34m)\u001b[0m\u001b[0;34m\u001b[0m\u001b[0;34m\u001b[0m\u001b[0m\n",
      "\u001b[0;32m/var/folders/r5/sw4x2qc12wz22xrjq85dxj940000gn/T/ipykernel_63524/2790026037.py\u001b[0m in \u001b[0;36m<listcomp>\u001b[0;34m(.0)\u001b[0m\n\u001b[1;32m      1\u001b[0m \u001b[0mtext\u001b[0m \u001b[0;34m=\u001b[0m \u001b[0;34m\"MCMXCIV\"\u001b[0m\u001b[0;34m\u001b[0m\u001b[0;34m\u001b[0m\u001b[0m\n\u001b[1;32m      2\u001b[0m \u001b[0;34m\u001b[0m\u001b[0m\n\u001b[0;32m----> 3\u001b[0;31m \u001b[0mnumber_list\u001b[0m \u001b[0;34m=\u001b[0m \u001b[0;34m[\u001b[0m\u001b[0mrome_dict\u001b[0m\u001b[0;34m[\u001b[0m\u001b[0mi\u001b[0m\u001b[0;34m]\u001b[0m \u001b[0;32mfor\u001b[0m \u001b[0mi\u001b[0m \u001b[0;32min\u001b[0m \u001b[0mtext\u001b[0m\u001b[0;34m]\u001b[0m\u001b[0;34m\u001b[0m\u001b[0;34m\u001b[0m\u001b[0m\n\u001b[0m\u001b[1;32m      4\u001b[0m \u001b[0mprint\u001b[0m\u001b[0;34m(\u001b[0m\u001b[0mnumber_list\u001b[0m\u001b[0;34m)\u001b[0m\u001b[0;34m\u001b[0m\u001b[0;34m\u001b[0m\u001b[0m\n",
      "\u001b[0;31mNameError\u001b[0m: name 'rome_dict' is not defined"
     ]
    }
   ],
   "source": [
    "text = \"MCMXCIV\"\n",
    "\n",
    "number_list = [rome_dict[i] for i in text]\n",
    "print(number_list)"
   ]
  },
  {
   "cell_type": "code",
   "execution_count": null,
   "metadata": {},
   "outputs": [
    {
     "data": {
      "text/plain": [
       "3"
      ]
     },
     "execution_count": 210,
     "metadata": {},
     "output_type": "execute_result"
    }
   ],
   "source": [
    "text = \"MCMXCIV\"\n",
    "\n",
    "def roman_to_int(text: str) -> int:\n",
    "    rome_dict = {\n",
    "        \"I\": 1,\n",
    "        \"V\": 5,\n",
    "        \"X\": 10,\n",
    "        \"L\": 50,\n",
    "        \"C\": 100,\n",
    "        \"D\": 500,\n",
    "        \"M\": 1000, \n",
    "    } # roman number key pair with its representive integer value\n",
    "\n",
    "    # transform roman number to integer\n",
    "    num_val_list = [rome_dict[i] for i in text]\n",
    "    \n",
    "    special_condition_list = [\"IV\", \"IX\", \"XL\", \"XC\", \"CD\", \"CM\"] # if True, we need to let that number as negitive value\n",
    "    for i in special_condition_list:\n",
    "        if i in text:\n",
    "            id = text.index(i)\n",
    "            num_val_list[id] = -num_val_list[id]\n",
    "\n",
    "    return sum(num_val_list)\n",
    "\n",
    "\n",
    "# test out the function\n",
    "roman_to_int(\"III\")"
   ]
  },
  {
   "cell_type": "code",
   "execution_count": null,
   "metadata": {},
   "outputs": [
    {
     "data": {
      "text/plain": [
       "<re.Match object; span=(1, 3), match='CM'>"
      ]
     },
     "execution_count": 204,
     "metadata": {},
     "output_type": "execute_result"
    }
   ],
   "source": [
    "text = \"MCMXCIVCD\"\n",
    "\n",
    "pattern = re.compile(r\"C[MD]\")\n",
    "pattern.search(text)"
   ]
  },
  {
   "cell_type": "code",
   "execution_count": null,
   "metadata": {},
   "outputs": [
    {
     "ename": "ValueError",
     "evalue": "substring not found",
     "output_type": "error",
     "traceback": [
      "\u001b[0;31m---------------------------------------------------------------------------\u001b[0m",
      "\u001b[0;31mValueError\u001b[0m                                Traceback (most recent call last)",
      "\u001b[0;32m/var/folders/r5/sw4x2qc12wz22xrjq85dxj940000gn/T/ipykernel_53731/734747632.py\u001b[0m in \u001b[0;36m<module>\u001b[0;34m\u001b[0m\n\u001b[0;32m----> 1\u001b[0;31m \u001b[0mtext\u001b[0m\u001b[0;34m.\u001b[0m\u001b[0mindex\u001b[0m\u001b[0;34m(\u001b[0m\u001b[0;34m\"XCC\"\u001b[0m\u001b[0;34m)\u001b[0m\u001b[0;34m\u001b[0m\u001b[0;34m\u001b[0m\u001b[0m\n\u001b[0m",
      "\u001b[0;31mValueError\u001b[0m: substring not found"
     ]
    }
   ],
   "source": []
  },
  {
   "cell_type": "code",
   "execution_count": null,
   "metadata": {},
   "outputs": [],
   "source": []
  },
  {
   "attachments": {},
   "cell_type": "markdown",
   "metadata": {},
   "source": [
    "## 20. Valid Parentheses\n",
    "\n",
    "\n",
    "Easy  \n",
    "\n",
    "Given a string s containing just the characters '(', ')', '{', '}', '[' and ']', determine if the input string is valid.  \n",
    "\n",
    "An input string is valid if:  \n",
    "\n",
    "Open brackets must be closed by the same type of brackets.  \n",
    "Open brackets must be closed in the correct order.  \n",
    "Every close bracket has a corresponding open bracket of the same type.  \n",
    " \n",
    "\n",
    "Example 1:  \n",
    "\n",
    "Input: `s = \"()\"`  \n",
    "Output: `true`  \n",
    "Example 2:  \n",
    "\n",
    "Input: `s = \"()[]{}\"`  \n",
    "Output: `true`  \n",
    "\n",
    "Example 3:  \n",
    "\n",
    "Input: `s = \"(]\"`  \n",
    "Output: `false`  \n",
    "\n",
    "\n",
    "Constraints:\n",
    "\n",
    "1 <= s.length <= 104\n",
    "s consists of parentheses only '()[]{}'."
   ]
  },
  {
   "cell_type": "code",
   "execution_count": null,
   "metadata": {},
   "outputs": [
    {
     "data": {
      "text/plain": [
       "True"
      ]
     },
     "execution_count": 259,
     "metadata": {},
     "output_type": "execute_result"
    }
   ],
   "source": [
    "s = \"([])[]{}\"\n",
    "\n",
    "\n",
    "def isValid(s: str) -> bool:\n",
    "    \n",
    "    bracket_dict = {\n",
    "        \"(\": \")\",\n",
    "        \"[\": \"]\",\n",
    "        \"{\": \"}\"\n",
    "    }\n",
    "    expr = True\n",
    "    for i in range(0, len(s), 2):\n",
    "        if s[i] in bracket_dict.keys():\n",
    "            val = bracket_dict[s[i]]\n",
    "            if val == s[i+1]:\n",
    "                expr = True\n",
    "        else:\n",
    "            expr = False\n",
    "            return expr\n",
    "        \n",
    "    return expr\n",
    "        \n",
    "isValid(s)"
   ]
  },
  {
   "cell_type": "code",
   "execution_count": null,
   "metadata": {},
   "outputs": [
    {
     "name": "stdout",
     "output_type": "stream",
     "text": [
      "['(', '[', ']', ')', '[', ']', '{', '}']\n"
     ]
    }
   ],
   "source": [
    "s = \"([])[]{}\"\n",
    "# list(s)\n",
    "\n",
    "test_s = \"([])[]{}\"\n",
    "test_s_list = list(test_s)\n",
    "print(test_s_list)\n"
   ]
  },
  {
   "cell_type": "code",
   "execution_count": null,
   "metadata": {},
   "outputs": [],
   "source": []
  },
  {
   "cell_type": "code",
   "execution_count": null,
   "metadata": {},
   "outputs": [
    {
     "name": "stdout",
     "output_type": "stream",
     "text": [
      "['(', ' ', '(', '{', '}', '[', ')', ']']\n",
      "['(', ' ', '(', '{', '}', '[', ' ', ']']\n",
      "['(', ' ', '(', '{', ' ', '[', ' ', ']']\n",
      "['(', ' ', '(', '{', ' ', '[', ' ', ' ']\n"
     ]
    }
   ],
   "source": [
    "\n",
    "\n",
    "bracket_dict = {\n",
    "    \"(\": \")\",\n",
    "    \"[\": \"]\",\n",
    "    \"{\": \"}\"\n",
    "}\n",
    "\n",
    "left = bracket_dict.keys()\n",
    "right = bracket_dict.values()\n",
    "\n",
    "\n",
    "strings = \"([]()())\"\n",
    "strings_list = list(strings)\n",
    "\n",
    "for i in strings:\n",
    "    if i in left:\n",
    "        if i == \"(\":\n",
    "            # Find next pair \")\"\n",
    "            right_pair_index = strings_list.index(\")\")\n",
    "            # substitute the right pair with \" \"\n",
    "            strings_list[right_pair_index] = \" \"\n",
    "            print(strings_list)\n",
    "        elif i == \"[\":\n",
    "            # Find next pair \"]\"\n",
    "            right_pair_index = strings_list.index(\"]\")\n",
    "            strings_list[right_pair_index] = \" \"\n",
    "            print(strings_list)\n",
    "        elif i == \"{\":\n",
    "            # Find next pair \"}\"\n",
    "            right_pair_index = strings_list.index(\"}\")\n",
    "            strings_list[right_pair_index] = \" \"\n",
    "            print(strings_list)\n",
    "    elif i == \" \":\n",
    "        continue            \n"
   ]
  },
  {
   "cell_type": "code",
   "execution_count": null,
   "metadata": {},
   "outputs": [],
   "source": []
  },
  {
   "cell_type": "code",
   "execution_count": null,
   "metadata": {},
   "outputs": [],
   "source": []
  },
  {
   "cell_type": "code",
   "execution_count": null,
   "metadata": {},
   "outputs": [],
   "source": []
  },
  {
   "attachments": {},
   "cell_type": "markdown",
   "metadata": {},
   "source": [
    "## 136. Single Number  \n",
    "\n",
    "Easy\n",
    "\n",
    "  Given a non-empty array of integers nums,  \n",
    "  every element appears twice except for one. Find that single one.  \n",
    "\n",
    "  You must implement a solution with a linear runtime complexity  \n",
    "  and use only constant extra space.\n",
    "\n",
    " \n",
    "\n",
    "Example 1:  \n",
    "\n",
    "Input: nums = `[2,2,1]`  \n",
    "Output: `1`  \n",
    "\n",
    "Example 2:  \n",
    "\n",
    "Input: nums = `[4,1,2,1,2]`  \n",
    "Output: `4`  \n",
    "\n",
    "\n",
    "Example 3:  \n",
    "\n",
    "Input: nums = `[1]`  \n",
    "Output: `1`  \n",
    "\n",
    "- Constraints:\n",
    "\n",
    "- 1 <= nums.length <= 3 * 104  \n",
    "- -3 * 104 <= nums[i] <= 3 * 104  \n",
    "- Each element in the array appears twice except for one element which appears only once.  \n",
    "\n"
   ]
  },
  {
   "cell_type": "code",
   "execution_count": null,
   "metadata": {},
   "outputs": [
    {
     "data": {
      "text/plain": [
       "1"
      ]
     },
     "execution_count": 298,
     "metadata": {},
     "output_type": "execute_result"
    }
   ],
   "source": [
    "from collections import Counter\n",
    "\n",
    "input_nums = [1, 2, 2]\n",
    "\n",
    "element_appears_once = [i[0] for i in Counter(input_nums).items() if i[1] == 1][0]\n",
    "element_appears_once"
   ]
  },
  {
   "cell_type": "code",
   "execution_count": null,
   "metadata": {},
   "outputs": [
    {
     "data": {
      "text/plain": [
       "[('A', 'B', 'C'), ('A', 'B', 'D'), ('A', 'C', 'D'), ('B', 'C', 'D')]"
      ]
     },
     "execution_count": 6,
     "metadata": {},
     "output_type": "execute_result"
    }
   ],
   "source": [
    "a = \"ABCD\"\n",
    "b = \"ABCD\"\n",
    "\n",
    "from itertools import product, combinations\n",
    "\n",
    "list(combinations(a, 3))"
   ]
  },
  {
   "cell_type": "code",
   "execution_count": null,
   "metadata": {},
   "outputs": [
    {
     "data": {
      "text/html": [
       "<div>\n",
       "<style scoped>\n",
       "    .dataframe tbody tr th:only-of-type {\n",
       "        vertical-align: middle;\n",
       "    }\n",
       "\n",
       "    .dataframe tbody tr th {\n",
       "        vertical-align: top;\n",
       "    }\n",
       "\n",
       "    .dataframe thead th {\n",
       "        text-align: right;\n",
       "    }\n",
       "</style>\n",
       "<table border=\"1\" class=\"dataframe\">\n",
       "  <thead>\n",
       "    <tr style=\"text-align: right;\">\n",
       "      <th></th>\n",
       "      <th>total_bill</th>\n",
       "      <th>tip</th>\n",
       "      <th>sex</th>\n",
       "      <th>smoker</th>\n",
       "      <th>day</th>\n",
       "      <th>time</th>\n",
       "      <th>size</th>\n",
       "    </tr>\n",
       "  </thead>\n",
       "  <tbody>\n",
       "    <tr>\n",
       "      <th>0</th>\n",
       "      <td>16.99</td>\n",
       "      <td>1.01</td>\n",
       "      <td>Female</td>\n",
       "      <td>No</td>\n",
       "      <td>Sun</td>\n",
       "      <td>Dinner</td>\n",
       "      <td>2</td>\n",
       "    </tr>\n",
       "    <tr>\n",
       "      <th>1</th>\n",
       "      <td>10.34</td>\n",
       "      <td>1.66</td>\n",
       "      <td>Male</td>\n",
       "      <td>No</td>\n",
       "      <td>Sun</td>\n",
       "      <td>Dinner</td>\n",
       "      <td>3</td>\n",
       "    </tr>\n",
       "    <tr>\n",
       "      <th>2</th>\n",
       "      <td>21.01</td>\n",
       "      <td>3.50</td>\n",
       "      <td>Male</td>\n",
       "      <td>No</td>\n",
       "      <td>Sun</td>\n",
       "      <td>Dinner</td>\n",
       "      <td>3</td>\n",
       "    </tr>\n",
       "    <tr>\n",
       "      <th>3</th>\n",
       "      <td>23.68</td>\n",
       "      <td>3.31</td>\n",
       "      <td>Male</td>\n",
       "      <td>No</td>\n",
       "      <td>Sun</td>\n",
       "      <td>Dinner</td>\n",
       "      <td>2</td>\n",
       "    </tr>\n",
       "    <tr>\n",
       "      <th>4</th>\n",
       "      <td>24.59</td>\n",
       "      <td>3.61</td>\n",
       "      <td>Female</td>\n",
       "      <td>No</td>\n",
       "      <td>Sun</td>\n",
       "      <td>Dinner</td>\n",
       "      <td>4</td>\n",
       "    </tr>\n",
       "  </tbody>\n",
       "</table>\n",
       "</div>"
      ],
      "text/plain": [
       "   total_bill   tip     sex smoker  day    time  size\n",
       "0       16.99  1.01  Female     No  Sun  Dinner     2\n",
       "1       10.34  1.66    Male     No  Sun  Dinner     3\n",
       "2       21.01  3.50    Male     No  Sun  Dinner     3\n",
       "3       23.68  3.31    Male     No  Sun  Dinner     2\n",
       "4       24.59  3.61  Female     No  Sun  Dinner     4"
      ]
     },
     "execution_count": 1,
     "metadata": {},
     "output_type": "execute_result"
    }
   ],
   "source": [
    "tips = sns.load_dataset(\"tips\")\n",
    "tips.head()"
   ]
  },
  {
   "cell_type": "code",
   "execution_count": null,
   "metadata": {},
   "outputs": [
    {
     "data": {
      "text/plain": [
       "pandas.core.series.Series"
      ]
     },
     "execution_count": 5,
     "metadata": {},
     "output_type": "execute_result"
    }
   ],
   "source": []
  },
  {
   "cell_type": "code",
   "execution_count": null,
   "metadata": {},
   "outputs": [
    {
     "name": "stdout",
     "output_type": "stream",
     "text": [
      "Hello my name is Lucas Lee, I am from TAIpei, TaiWan, it's my pleasure to be in here.\n",
      "My email: lin777@gmail.com please contact me asap.\n"
     ]
    }
   ],
   "source": [
    "test_text = \"Hello my name is Lucas Lee, I am from TAIpei, TaiWan, it's my pleasure to be in here.\\nMy email: lin777@gmail.com please contact me asap.\"\n",
    "print(test_text)"
   ]
  },
  {
   "cell_type": "code",
   "execution_count": null,
   "metadata": {},
   "outputs": [
    {
     "name": "stdout",
     "output_type": "stream",
     "text": [
      "<class 'str'>\n",
      "Taipei, Taiwan\n"
     ]
    }
   ],
   "source": [
    "pat = re.compile(r\"from\\s([A-Za-z]+,\\s[A-Za-z]+),\")\n",
    "result = pat.search(test_text).group(1)\n",
    "print(type(result))\n",
    "print(result.title())\n"
   ]
  },
  {
   "cell_type": "code",
   "execution_count": null,
   "metadata": {},
   "outputs": [
    {
     "name": "stdout",
     "output_type": "stream",
     "text": [
      "[['A', 'a'], ['B', 'b']]\n"
     ]
    },
    {
     "data": {
      "text/plain": [
       "['A', 'a', 'B', 'b']"
      ]
     },
     "execution_count": 53,
     "metadata": {},
     "output_type": "execute_result"
    }
   ],
   "source": [
    "bal_alpha = [['A', 'a'], ['B', 'b']]\n",
    "print(bal_alpha)\n",
    "\n",
    "[i for sublist in bal_alpha for i in sublist]"
   ]
  },
  {
   "attachments": {},
   "cell_type": "markdown",
   "metadata": {},
   "source": [
    "# Find nearest square root of a number\n",
    "\n",
    "calculate sqrt of the input x return the square root of x rounded down to the nearest integer  \n",
    "and don't use sqrt() or x**0.5 built-in function"
   ]
  },
  {
   "cell_type": "code",
   "execution_count": null,
   "metadata": {},
   "outputs": [
    {
     "data": {
      "text/plain": [
       "5"
      ]
     },
     "execution_count": 77,
     "metadata": {},
     "output_type": "execute_result"
    }
   ],
   "source": [
    "# calculate sqrt of the input x return the square root of x rounded down to the nearest integer\n",
    "# and don't use sqrt() or x**0.5 built-in function\n",
    "\n",
    "# example input x = 8, so the output must be 2 cuz 2.8284... ** 2 = 8\n",
    "\n",
    "def mySqrt(x: int) -> int:\n",
    "    assert x >= 0, \"x must be a non-negative integer\"\n",
    "    if x == 0:\n",
    "        return 0\n",
    "    else:\n",
    "        for i in range(1, x+1):\n",
    "            if i * i > x:\n",
    "                return i - 1\n",
    "            elif i * i == x:\n",
    "                return i\n",
    "            else:\n",
    "                continue"
   ]
  },
  {
   "attachments": {},
   "cell_type": "markdown",
   "metadata": {},
   "source": [
    "# 70. Climbing Stairs\n",
    "\n",
    "Easy  \n",
    "You are climbing a staircase. It takes n steps to reach the top.\n",
    "Each time you can either climb 1 or 2 steps.  \n",
    "In how many distinct ways can you climb to the top?\n",
    "\n",
    "Example 1:  \n",
    "Input: n = `2`  \n",
    "Output: `2`  \n",
    "Explanation: There are two ways to climb to the top.  \n",
    "1. 1 step + 1 step\n",
    "2. 2 steps  \n",
    "\n",
    "\n",
    "Example 2:  \n",
    "Input: n = `3`  \n",
    "Output: `3`  \n",
    "Explanation: There are three ways to climb to the top.  \n",
    "1. 1 step + 1 step + 1 step\n",
    "2. 1 step + 2 steps\n",
    "3. 2 steps + 1 step\n"
   ]
  },
  {
   "cell_type": "code",
   "execution_count": null,
   "metadata": {},
   "outputs": [],
   "source": [
    "# if one step = A and two steps = B\n",
    "# Input: n = 3\n",
    "# path: AAA, AB, BA 3 ways to reach the top n\n",
    "\n",
    "# Input: n = 10\n",
    "# path: AAAAAAAAAA, BBBBB, BBBBAA, BBBAAAA....\n",
    "def climbStairs(n: int) -> int:\n",
    "    pass"
   ]
  },
  {
   "cell_type": "code",
   "execution_count": null,
   "metadata": {},
   "outputs": [
    {
     "data": {
      "text/plain": [
       "[1, 1, 2]"
      ]
     },
     "execution_count": 83,
     "metadata": {},
     "output_type": "execute_result"
    }
   ],
   "source": [
    "# 21. Merge Two Sorted Lists\n",
    "def mergeTwoLists(list1, list2):\n",
    "    \n",
    "    return sorted([*list1, *list2])[:3]\n",
    "\n",
    "\n",
    "mergeTwoLists([1,2,4], [1,3,4])"
   ]
  },
  {
   "cell_type": "code",
   "execution_count": null,
   "metadata": {},
   "outputs": [
    {
     "data": {
      "text/plain": [
       "[1]"
      ]
     },
     "execution_count": 91,
     "metadata": {},
     "output_type": "execute_result"
    }
   ],
   "source": [
    "# 347. Top K Frequent Elements\n",
    "\n",
    "# Given a non-empty array of integers, return the k most frequent elements.\n",
    "\n",
    "def topKFrequent(nums, k):\n",
    "    return [i[0] for i in Counter(nums).most_common(k)]\n",
    "\n",
    "\n",
    "topKFrequent([1], 1)"
   ]
  },
  {
   "cell_type": "code",
   "execution_count": null,
   "metadata": {},
   "outputs": [
    {
     "data": {
      "text/plain": [
       "3"
      ]
     },
     "execution_count": 111,
     "metadata": {},
     "output_type": "execute_result"
    }
   ],
   "source": [
    "nums = [1,1,1,2,2,3,3,3,3,3,3,1,3,3,3]\n",
    "avg = len(nums) // 2\n",
    "\n",
    "[i for i in set(nums) if nums.count(i) > avg][0]\n"
   ]
  },
  {
   "cell_type": "code",
   "execution_count": null,
   "metadata": {},
   "outputs": [],
   "source": [
    "# 171. Excel Sheet Column Number\n",
    "\n",
    "# Given a column title as appear in an Excel sheet, return its corresponding column number.\n",
    "# columnTitle is in the range [\"A\", \"FXSHRXW\"]. length <= 7\n",
    "\n",
    "def titleToNumber(columnTitle: str) -> int:\n",
    "    alpha_list = [chr(i) for i in range(65, 91)]\n",
    "    col_length = len(columnTitle)\n",
    "    col_rev = columnTitle[::-1]\n",
    "    total = 0\n",
    "    for i in range(col_length):\n",
    "        total += (alpha_list.index(col_rev[i]) + 1) * 26 ** i\n",
    "        \n",
    "    return total"
   ]
  },
  {
   "cell_type": "code",
   "execution_count": null,
   "metadata": {},
   "outputs": [],
   "source": []
  },
  {
   "cell_type": "code",
   "execution_count": null,
   "metadata": {},
   "outputs": [
    {
     "data": {
      "text/plain": [
       "[7, 0, 1, 1]"
      ]
     },
     "execution_count": 188,
     "metadata": {},
     "output_type": "execute_result"
    }
   ],
   "source": [
    "# Add two numbers\n",
    "\n",
    "l1, l2 = [2,4,6], [5,6,4]\n",
    "# Output: [7,0,8] cuz 342 + 465 = 807\n",
    "\n",
    "zero_list = [0 for i in range(max(len(l1), len(l2)))]\n",
    "\n",
    "zip_data = [i for i in zip(l1, l2)]\n",
    "\n",
    "result_list = []\n",
    "for index, item in enumerate(zip_data):\n",
    "    if sum(item) < 10:\n",
    "        result_list.append(sum(item)+zero_list[index])\n",
    "    elif sum(item) >= 10:\n",
    "        result_list.append(sum(item)+zero_list[index]-10)\n",
    "        if index+1 < len(zero_list):\n",
    "            zero_list[index+1] += 1\n",
    "        else:\n",
    "            result_list.append(1)\n",
    "\n",
    "result_list\n"
   ]
  },
  {
   "cell_type": "code",
   "execution_count": null,
   "metadata": {},
   "outputs": [
    {
     "name": "stdout",
     "output_type": "stream",
     "text": [
      "[9, 9, 9, 9, 0, 0, 0]\n"
     ]
    },
    {
     "data": {
      "text/plain": [
       "[8, 9, 9, 9, 10, 9, 9]"
      ]
     },
     "execution_count": 212,
     "metadata": {},
     "output_type": "execute_result"
    }
   ],
   "source": [
    "l1, l2 = [9,9,9,9,9,9,9], [9,9,9,9]\n",
    "# Output: [8,9,9,9,0,0,0,1]\n",
    "\n",
    "# Make two lists the same length\n",
    "list_new = []\n",
    "for i in range(len(l1)):\n",
    "    if i < len(l2):\n",
    "        list_new.append(l2[i])\n",
    "    else:\n",
    "        list_new.append(0)\n",
    "\n",
    "print(list_new)\n",
    "\n",
    "zero_list = [0 for i in range(max(len(l1), len(l2)))]\n",
    "\n",
    "zip_data = [i for i in zip(l1, list_new)]\n",
    "\n",
    "result_list = []\n",
    "for index, item in enumerate(zip_data):\n",
    "    if sum(item) < 10:\n",
    "        result_list.append(sum(item)+zero_list[index])\n",
    "    elif sum(item) >= 10:\n",
    "        result_list.append(sum(item)+zero_list[index]-10)\n",
    "        if index+1 < len(zero_list):\n",
    "            zero_list[index+1] += 1\n",
    "        else:\n",
    "            result_list.append(1)\n",
    "\n",
    "result_list"
   ]
  },
  {
   "cell_type": "code",
   "execution_count": null,
   "metadata": {},
   "outputs": [],
   "source": []
  },
  {
   "cell_type": "code",
   "execution_count": null,
   "metadata": {},
   "outputs": [
    {
     "data": {
      "text/plain": [
       "[7, 'x', 7, 7, 7, 7, 8, 9, 9, 9, 10, 9, 9, 0, 7, 7, 7, 7]"
      ]
     },
     "execution_count": 211,
     "metadata": {},
     "output_type": "execute_result"
    }
   ],
   "source": [
    "result_list.insert(1, \"x\")\n",
    "result_list"
   ]
  },
  {
   "cell_type": "code",
   "execution_count": null,
   "metadata": {},
   "outputs": [
    {
     "data": {
      "text/plain": [
       "[7, 0, 8]"
      ]
     },
     "execution_count": 218,
     "metadata": {},
     "output_type": "execute_result"
    }
   ],
   "source": [
    "l1, l2 = [2,4,3], [5,6,4]\n",
    "\n",
    "if len(l1) != len(l2):\n",
    "    if len(l1) > len(l2):\n",
    "        l2 = l2 + [0 for i in range(len(l1)-len(l2))]\n",
    "    else:\n",
    "        l1 = l1 + [0 for i in range(len(l2)-len(l1))]\n",
    "\n",
    "length = len(l1)\n",
    "\n",
    "zero_list = [0 for i in range(length)]\n",
    "\n",
    "result_list = []\n",
    "zip_data = [i for i in zip(l1, l2)]\n",
    "for index, item in enumerate(zip_data):\n",
    "    if sum(item)+zero_list[index] < 10:\n",
    "        result_list.append(sum(item)+zero_list[index])\n",
    "    elif sum(item)+zero_list[index] >= 10:\n",
    "        result_list.append(sum(item)+zero_list[index]-10)\n",
    "        if index+1 < len(zero_list):\n",
    "            zero_list[index+1] += 1\n",
    "        elif index+1 == len(zero_list): # If it's the last item and should be appended into next position\n",
    "            result_list.append(1)\n",
    "\n"
   ]
  },
  {
   "cell_type": "code",
   "execution_count": null,
   "metadata": {},
   "outputs": [],
   "source": []
  },
  {
   "cell_type": "code",
   "execution_count": null,
   "metadata": {},
   "outputs": [
    {
     "data": {
      "text/plain": [
       "4"
      ]
     },
     "execution_count": 238,
     "metadata": {},
     "output_type": "execute_result"
    }
   ],
   "source": [
    "s = \"kkkkaooooobbbblllllcxxxx\"\n",
    "# Output: 2\n",
    "from collections import Counter\n",
    "\n",
    "# [key for key, value in Counter(s).items() if value == 1][0]\n",
    "\n",
    "def firstUniqChar(s: str) -> int:\n",
    "\n",
    "    if 1 not in [value for key, value in Counter(s).items()]:\n",
    "        return -1\n",
    "    else:\n",
    "        result_chr_first = [key for key, value in Counter(s).items() if value == 1][0]\n",
    "        return s.index(result_chr_first)\n",
    "\n",
    "firstUniqChar(s)"
   ]
  },
  {
   "cell_type": "code",
   "execution_count": 249,
   "metadata": {},
   "outputs": [
    {
     "data": {
      "text/plain": [
       "[3, 5, 4, 13]"
      ]
     },
     "execution_count": 249,
     "metadata": {},
     "output_type": "execute_result"
    }
   ],
   "source": [
    "test = lambda x: len(x)\n",
    "\n",
    "len_values = [\"kkk\", \"lucas\", \"buon\", \"kdsjfkdslllll\"]\n",
    "\n",
    "# print out each value's len() by test()\n",
    "[test(i) for i in len_values]\n"
   ]
  },
  {
   "cell_type": "code",
   "execution_count": null,
   "metadata": {},
   "outputs": [],
   "source": []
  },
  {
   "cell_type": "code",
   "execution_count": null,
   "metadata": {},
   "outputs": [],
   "source": []
  },
  {
   "cell_type": "code",
   "execution_count": null,
   "metadata": {},
   "outputs": [],
   "source": []
  },
  {
   "cell_type": "code",
   "execution_count": null,
   "metadata": {},
   "outputs": [],
   "source": []
  },
  {
   "cell_type": "code",
   "execution_count": null,
   "metadata": {},
   "outputs": [],
   "source": []
  },
  {
   "attachments": {},
   "cell_type": "markdown",
   "metadata": {},
   "source": [
    "# Lucas playground\n",
    "\n",
    "## This is my test lab  \n",
    "    This is the lab and playground for me to test and learn new things\n",
    "Just experimenting with pure joy.\n",
    "\n",
    "\n"
   ]
  },
  {
   "cell_type": "code",
   "execution_count": 262,
   "metadata": {},
   "outputs": [
    {
     "data": {
      "image/png": "[encoded data removed]",
      "text/plain": [
       "<Figure size 640x480 with 1 Axes>"
      ]
     },
     "metadata": {},
     "output_type": "display_data"
    },
    {
     "data": {
      "image/png": "[encoded data removed]",
      "text/plain": [
       "<Figure size 800x100 with 1 Axes>"
      ]
     },
     "metadata": {},
     "output_type": "display_data"
    },
    {
     "data": {
      "image/png": "[encoded data removed]",
      "text/plain": [
       "<Figure size 1000x100 with 1 Axes>"
      ]
     },
     "metadata": {},
     "output_type": "display_data"
    }
   ],
   "source": [
    "# Test lab:\n",
    "# This is my playground for testing out code\n",
    "\n",
    "# Import libraries here\n",
    "import re\n",
    "import numpy as np\n",
    "import pandas as pd\n",
    "\n",
    "# For visualization\n",
    "import matplotlib.pyplot as plt\n",
    "import seaborn as sns\n",
    "\n",
    "# For modeling\n",
    "from sklearn.model_selection import train_test_split\n",
    "from sklearn.linear_model import LogisticRegression\n",
    "# import kmeans\n",
    "from sklearn.cluster import KMeans\n",
    "\n",
    "import json\n",
    "\n",
    "# For example data\n",
    "# tips \n",
    "tips =  sns.load_dataset(\"tips\")\n",
    "tips.head()\n",
    "\n",
    "\n",
    "sns.scatterplot(data=tips, x=\"total_bill\", y=\"tip\",\n",
    "                hue=\"sex\", size=\"size\", style=\"smoker\",\n",
    "                palette=\"Set2\", sizes=(20, 200), alpha=.7, linewidth=0)\n",
    "\n",
    "# The color palette here:\n",
    "sns.color_palette(\"Set2\")\n",
    "# show the palatte\n",
    "sns.palplot(sns.color_palette(\"Set2\"))\n",
    "\n",
    "# How about something dark: \n",
    "sns.palplot(sns.color_palette(\"dark\"))"
   ]
  },
  {
   "cell_type": "code",
   "execution_count": 256,
   "metadata": {},
   "outputs": [
    {
     "data": {
      "text/plain": [
       "[(1, 1), (1, 2), (1, 3), (2, 1), (2, 2), (2, 3), (3, 1), (3, 2), (3, 3)]"
      ]
     },
     "execution_count": 256,
     "metadata": {},
     "output_type": "execute_result"
    }
   ],
   "source": [
    "# Given an integer array nums of unique elements, return all possible subsets (the power set).\n",
    "# The solution set must not contain duplicate subsets. Return the solution in any order.\n",
    "\n",
    "# Example 1:\n",
    "# Input: nums = [1,2,3]\n",
    "# Output: \n",
    "# [[],[1],[2],\n",
    "# [1,2],[3],[1,3],\n",
    "# [2,3],[1,2,3]\n",
    "# ]\n",
    "\n",
    "import numpy as np\n",
    "from itertools import combinations, product\n",
    "test_input = [1,2,3]\n",
    "test_input2 = [1,2,3]\n",
    "\n",
    "\n",
    "# Method 1: Using itertools\n",
    "[i for i in product(test_input, test_input2)]\n",
    "\n",
    "\n",
    "\n",
    "\n"
   ]
  },
  {
   "cell_type": "code",
   "execution_count": null,
   "metadata": {},
   "outputs": [],
   "source": [
    "# Leetcode regular expression matching\n",
    "# No. 10\n",
    "# title: Regular Expression Matching\n",
    "\n"
   ]
  },
  {
   "cell_type": "code",
   "execution_count": 264,
   "metadata": {},
   "outputs": [],
   "source": [
    "\n",
    "\n",
    "toefl_dict = {\n",
    "    \"description\": \"Learning 1600 toefl words, 25 words as a chunck\",\n",
    "    \"start_date\": \"2023-02-25\",\n",
    "    \"data\": {\n",
    "        \"learn_date\": {\n",
    "            \"2023-02-25\": {\n",
    "                \"Chunk_No_1\": [\n",
    "                    \"rumble\", \"revered\", \"stamina\", \"prosper\", \"prototypical\",\n",
    "                    \"besiege\", \"seismic\", \"peripheral\", \"stunt\", \"foreshadow\",\n",
    "                    \"trait\", \"incise\", \"entrenched\", \"intriguing\", \"sanction\",\n",
    "                    \"ingenious\", \"glaze\", \"dilution\", \"inanimate\", \"surmount\",\n",
    "                    \"foresight\", \"graze\", \"sumptuous\", \"aromatic\", \"contender\"\n",
    "                ],\n",
    "                \"Chunk_No_2\": [\n",
    "                    \"gourmand\", \"glacial\", \"wade\", \"hinge\", \"supremacy\",\n",
    "                    \"intermittent\", \"aspiration\", \"puddle\", \"retrospect\", \"convex\",\n",
    "                    \"vigilance\", \"vault\", \"luster\", \"sparsely\", \"congenial\",\n",
    "                    \"avalanche\", \"periodical\", \"neon\", \"utopian\", \"incisive\",\n",
    "                    \"prospector\", \"integrity\", \"driftwood\", \"waste-disposal\", \"gemstone\"\n",
    "                ]\n",
    "            },\n",
    "\n",
    "            \"2023-02-26\": {\n",
    "                \"Chunk_No_3\": [\n",
    "                    \"rigid\", \"forbidding\", \"proliferation\", \"adequate\", \"vestige\",\n",
    "                    \"mechanized\", \"suppress\", \"majestic\", \"emergence\", \"debatable\",\n",
    "                    \"maneuver\", \"arithmetic\", \"olfactory\", \"dismemeber\", \"arboreal\",\n",
    "                    \"locomotive\", \"dissipated\", \"spinal-cord\", \"spacious\", \"residual\",\n",
    "                    \"slime\", \"foliage\", \"analogous\", \"heed\", \"intricately\"\n",
    "                ],\n",
    "                \"Chunk_No_4\": [\n",
    "                    \"unwieldy\", \"incredulity\", \"particulate\", \"loom\", \"outlying\",\n",
    "                    \"debris\", \"impersonation\", \"horticulture\", \"receptor\", \"militant\",\n",
    "                    \"slimy\", \"anatomy\", \"luminous\", \"creditor\", \"solicit\",\n",
    "                    \"rudimentary\", \"detest\", \"paleontologist\", \"customarily\", \"unanimous\",\n",
    "                    \"irradiate\", \"paucity\", \"converge\", \"presumably\", \"inheritance\"\n",
    "                ]\n",
    "\n",
    "            }\n",
    "\n",
    "        }\n",
    "\n",
    "\n",
    "    }\n",
    "\n",
    "}\n"
   ]
  },
  {
   "cell_type": "code",
   "execution_count": 266,
   "metadata": {},
   "outputs": [
    {
     "data": {
      "text/plain": [
       "dict_keys(['description', 'start_date', 'data'])"
      ]
     },
     "execution_count": 266,
     "metadata": {},
     "output_type": "execute_result"
    }
   ],
   "source": [
    "# read toefl_dict\n",
    "toefl_dict.keys()\n",
    "\n",
    "\n",
    "# Write a function for analyzing the dictionary that is kinda complicated...\n",
    "\n"
   ]
  },
  {
   "cell_type": "code",
   "execution_count": null,
   "metadata": {},
   "outputs": [],
   "source": []
  },
  {
   "cell_type": "code",
   "execution_count": null,
   "metadata": {},
   "outputs": [],
   "source": []
  },
  {
   "cell_type": "code",
   "execution_count": null,
   "metadata": {},
   "outputs": [],
   "source": []
  },
  {
   "cell_type": "code",
   "execution_count": null,
   "metadata": {},
   "outputs": [],
   "source": []
  },
  {
   "cell_type": "code",
   "execution_count": null,
   "metadata": {},
   "outputs": [],
   "source": []
  }
 ],
 "metadata": {
  "kernelspec": {
   "display_name": "base",
   "language": "python",
   "name": "python3"
  },
  "language_info": {
   "codemirror_mode": {
    "name": "ipython",
    "version": 3
   },
   "file_extension": ".py",
   "mimetype": "text/x-python",
   "name": "python",
   "nbconvert_exporter": "python",
   "pygments_lexer": "ipython3",
   "version": "3.7.4"
  },
  "orig_nbformat": 4,
  "vscode": {
   "interpreter": {
    "hash": "38505b1823952a8d06edfb0c2c90cab2b0517193277b7732fb89705b7ec6b4d0"
   }
  }
 },
 "nbformat": 4,
 "nbformat_minor": 2
}
